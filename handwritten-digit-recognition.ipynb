{
 "cells": [
  {
   "cell_type": "code",
   "execution_count": 1,
   "id": "e601b3d9",
   "metadata": {
    "_cell_guid": "b1076dfc-b9ad-4769-8c92-a6c4dae69d19",
    "_uuid": "8f2839f25d086af736a60e9eeb907d3b93b6e0e5",
    "execution": {
     "iopub.execute_input": "2024-03-12T11:10:48.070246Z",
     "iopub.status.busy": "2024-03-12T11:10:48.069854Z",
     "iopub.status.idle": "2024-03-12T11:10:49.094854Z",
     "shell.execute_reply": "2024-03-12T11:10:49.093568Z"
    },
    "papermill": {
     "duration": 1.039303,
     "end_time": "2024-03-12T11:10:49.097556",
     "exception": false,
     "start_time": "2024-03-12T11:10:48.058253",
     "status": "completed"
    },
    "tags": []
   },
   "outputs": [
    {
     "name": "stdout",
     "output_type": "stream",
     "text": [
      "/kaggle/input/digit-recognizer/sample_submission.csv\n",
      "/kaggle/input/digit-recognizer/train.csv\n",
      "/kaggle/input/digit-recognizer/test.csv\n"
     ]
    }
   ],
   "source": [
    "# This Python 3 environment comes with many helpful analytics libraries installed\n",
    "# It is defined by the kaggle/python Docker image: https://github.com/kaggle/docker-python\n",
    "# For example, here's several helpful packages to load\n",
    "\n",
    "import numpy as np # linear algebra\n",
    "import pandas as pd # data processing, CSV file I/O (e.g. pd.read_csv)\n",
    "\n",
    "# Input data files are available in the read-only \"../input/\" directory\n",
    "# For example, running this (by clicking run or pressing Shift+Enter) will list all files under the input directory\n",
    "\n",
    "import os\n",
    "for dirname, _, filenames in os.walk('/kaggle/input'):\n",
    "    for filename in filenames:\n",
    "        print(os.path.join(dirname, filename))\n",
    "\n",
    "# You can write up to 20GB to the current directory (/kaggle/working/) that gets preserved as output when you create a version using \"Save & Run All\" \n",
    "# You can also write temporary files to /kaggle/temp/, but they won't be saved outside of the current session"
   ]
  },
  {
   "cell_type": "code",
   "execution_count": 2,
   "id": "09078eaa",
   "metadata": {
    "execution": {
     "iopub.execute_input": "2024-03-12T11:10:49.118288Z",
     "iopub.status.busy": "2024-03-12T11:10:49.117633Z",
     "iopub.status.idle": "2024-03-12T11:10:49.124398Z",
     "shell.execute_reply": "2024-03-12T11:10:49.122887Z"
    },
    "papermill": {
     "duration": 0.020742,
     "end_time": "2024-03-12T11:10:49.126977",
     "exception": false,
     "start_time": "2024-03-12T11:10:49.106235",
     "status": "completed"
    },
    "tags": []
   },
   "outputs": [],
   "source": [
    "import pandas as pd\n",
    "\n",
    "data_path = '/kaggle/input/digit-recognizer/train.csv'"
   ]
  },
  {
   "cell_type": "code",
   "execution_count": 3,
   "id": "fb7fae06",
   "metadata": {
    "execution": {
     "iopub.execute_input": "2024-03-12T11:10:49.146223Z",
     "iopub.status.busy": "2024-03-12T11:10:49.145851Z",
     "iopub.status.idle": "2024-03-12T11:10:49.153820Z",
     "shell.execute_reply": "2024-03-12T11:10:49.152623Z"
    },
    "papermill": {
     "duration": 0.020255,
     "end_time": "2024-03-12T11:10:49.156253",
     "exception": false,
     "start_time": "2024-03-12T11:10:49.135998",
     "status": "completed"
    },
    "tags": []
   },
   "outputs": [],
   "source": [
    "import pandas as pd\n",
    "import numpy as np\n",
    "\n",
    "def load_data(csv_file):\n",
    "    # Read the CSV file into a DataFrame\n",
    "    df = pd.read_csv(csv_file)\n",
    "    \n",
    "    # Extract the pixel data from the DataFrame\n",
    "    pixel_data = df.values\n",
    "#     print(pixel_data[0].shape[0]-1)\n",
    "#     Reshape the pixel data to images\n",
    "    images = []\n",
    "    labels = []\n",
    "    for pixels in pixel_data:\n",
    "        # Reshape the pixel data to the original image shape (e.g., 224x224x3 for RGB images)\n",
    "        image = pixels[1:].reshape((28, 28, 1))\n",
    "        label = pixels[0]\n",
    "        # Append the image to the list of images\n",
    "        images.append(image)\n",
    "        labels.append(label)\n",
    "    \n",
    "    return images, labels"
   ]
  },
  {
   "cell_type": "code",
   "execution_count": 4,
   "id": "d017be62",
   "metadata": {
    "execution": {
     "iopub.execute_input": "2024-03-12T11:10:49.176876Z",
     "iopub.status.busy": "2024-03-12T11:10:49.176501Z",
     "iopub.status.idle": "2024-03-12T11:10:53.923663Z",
     "shell.execute_reply": "2024-03-12T11:10:53.922415Z"
    },
    "papermill": {
     "duration": 4.760961,
     "end_time": "2024-03-12T11:10:53.926501",
     "exception": false,
     "start_time": "2024-03-12T11:10:49.165540",
     "status": "completed"
    },
    "tags": []
   },
   "outputs": [],
   "source": [
    "images, labels = load_data(data_path)"
   ]
  },
  {
   "cell_type": "code",
   "execution_count": 5,
   "id": "3588c1a6",
   "metadata": {
    "execution": {
     "iopub.execute_input": "2024-03-12T11:10:53.948367Z",
     "iopub.status.busy": "2024-03-12T11:10:53.946893Z",
     "iopub.status.idle": "2024-03-12T11:10:54.295002Z",
     "shell.execute_reply": "2024-03-12T11:10:54.293772Z"
    },
    "papermill": {
     "duration": 0.361185,
     "end_time": "2024-03-12T11:10:54.297676",
     "exception": false,
     "start_time": "2024-03-12T11:10:53.936491",
     "status": "completed"
    },
    "tags": []
   },
   "outputs": [
    {
     "data": {
      "image/png": "[encoded data removed]",
      "text/plain": [
       "<Figure size 640x480 with 3 Axes>"
      ]
     },
     "metadata": {},
     "output_type": "display_data"
    }
   ],
   "source": [
    "import matplotlib.pyplot as plt\n",
    "\n",
    "# Define the indices of the images you want to display\n",
    "indices = [882, 883, 884]\n",
    "\n",
    "# Create a subplot for each image\n",
    "for i, idx in enumerate(indices, start=1):\n",
    "    plt.subplot(1, len(indices), i)\n",
    "    plt.imshow(images[idx])\n",
    "    plt.title(labels[idx])  # Add a title to the image\n",
    "    plt.axis('off')  # Turn off axis\n",
    "\n",
    "plt.show()"
   ]
  },
  {
   "cell_type": "code",
   "execution_count": 6,
   "id": "d29268e1",
   "metadata": {
    "execution": {
     "iopub.execute_input": "2024-03-12T11:10:54.317098Z",
     "iopub.status.busy": "2024-03-12T11:10:54.315832Z",
     "iopub.status.idle": "2024-03-12T11:10:54.325195Z",
     "shell.execute_reply": "2024-03-12T11:10:54.323846Z"
    },
    "papermill": {
     "duration": 0.022386,
     "end_time": "2024-03-12T11:10:54.328433",
     "exception": false,
     "start_time": "2024-03-12T11:10:54.306047",
     "status": "completed"
    },
    "tags": []
   },
   "outputs": [
    {
     "data": {
      "text/plain": [
       "(42000, 42000)"
      ]
     },
     "execution_count": 6,
     "metadata": {},
     "output_type": "execute_result"
    }
   ],
   "source": [
    "len(images),len(labels)"
   ]
  },
  {
   "cell_type": "code",
   "execution_count": 7,
   "id": "f6f067a4",
   "metadata": {
    "execution": {
     "iopub.execute_input": "2024-03-12T11:10:54.347578Z",
     "iopub.status.busy": "2024-03-12T11:10:54.347149Z",
     "iopub.status.idle": "2024-03-12T11:11:09.705587Z",
     "shell.execute_reply": "2024-03-12T11:11:09.704167Z"
    },
    "papermill": {
     "duration": 15.37137,
     "end_time": "2024-03-12T11:11:09.708554",
     "exception": false,
     "start_time": "2024-03-12T11:10:54.337184",
     "status": "completed"
    },
    "tags": []
   },
   "outputs": [
    {
     "name": "stderr",
     "output_type": "stream",
     "text": [
      "2024-03-12 11:10:56.776049: E external/local_xla/xla/stream_executor/cuda/cuda_dnn.cc:9261] Unable to register cuDNN factory: Attempting to register factory for plugin cuDNN when one has already been registered\n",
      "2024-03-12 11:10:56.776249: E external/local_xla/xla/stream_executor/cuda/cuda_fft.cc:607] Unable to register cuFFT factory: Attempting to register factory for plugin cuFFT when one has already been registered\n",
      "2024-03-12 11:10:56.963543: E external/local_xla/xla/stream_executor/cuda/cuda_blas.cc:1515] Unable to register cuBLAS factory: Attempting to register factory for plugin cuBLAS when one has already been registered\n"
     ]
    }
   ],
   "source": [
    "from tensorflow.keras.preprocessing.image import ImageDataGenerator\n",
    "import numpy as np\n",
    "\n",
    "def augment_images(images, rotation_range=20, width_shift_range=0.1,\n",
    "                   height_shift_range=0.1, shear_range=0.2, zoom_range=0.2,\n",
    "                   horizontal_flip=True, fill_mode='nearest'):\n",
    "    # Create an ImageDataGenerator object with the specified augmentations\n",
    "    datagen = ImageDataGenerator(\n",
    "        rotation_range=rotation_range,\n",
    "        width_shift_range=width_shift_range,\n",
    "        height_shift_range=height_shift_range,\n",
    "        shear_range=shear_range,\n",
    "        zoom_range=zoom_range,\n",
    "        horizontal_flip=horizontal_flip,\n",
    "        fill_mode=fill_mode\n",
    "    )\n",
    "\n",
    "    # Fit the ImageDataGenerator object to your data (optional)\n",
    "    datagen.fit(images)\n",
    "\n",
    "    # Generate augmented images\n",
    "    augmented_images = []\n",
    "    for img in images:\n",
    "        augmented_img = next(datagen.flow(np.expand_dims(img, axis=0), batch_size=1))[0]\n",
    "        augmented_images.append(augmented_img.squeeze())\n",
    "\n",
    "    return augmented_images"
   ]
  },
  {
   "cell_type": "code",
   "execution_count": 8,
   "id": "48bdedda",
   "metadata": {
    "execution": {
     "iopub.execute_input": "2024-03-12T11:11:09.730759Z",
     "iopub.status.busy": "2024-03-12T11:11:09.729362Z",
     "iopub.status.idle": "2024-03-12T11:11:27.188607Z",
     "shell.execute_reply": "2024-03-12T11:11:27.187364Z"
    },
    "papermill": {
     "duration": 17.473374,
     "end_time": "2024-03-12T11:11:27.191582",
     "exception": false,
     "start_time": "2024-03-12T11:11:09.718208",
     "status": "completed"
    },
    "tags": []
   },
   "outputs": [],
   "source": [
    "# Generate augmented images for the first set\n",
    "augmented_images1 = augment_images(images)"
   ]
  },
  {
   "cell_type": "code",
   "execution_count": 9,
   "id": "98d7dcb8",
   "metadata": {
    "execution": {
     "iopub.execute_input": "2024-03-12T11:11:27.212388Z",
     "iopub.status.busy": "2024-03-12T11:11:27.211925Z",
     "iopub.status.idle": "2024-03-12T11:11:44.668514Z",
     "shell.execute_reply": "2024-03-12T11:11:44.667270Z"
    },
    "papermill": {
     "duration": 17.470249,
     "end_time": "2024-03-12T11:11:44.671378",
     "exception": false,
     "start_time": "2024-03-12T11:11:27.201129",
     "status": "completed"
    },
    "tags": []
   },
   "outputs": [],
   "source": [
    "# Generate augmented images for the second set with different parameters\n",
    "augmented_images2 = augment_images(images, rotation_range=30, width_shift_range=0.2,height_shift_range=0.2, shear_range=0.3, zoom_range=0.3)"
   ]
  },
  {
   "cell_type": "code",
   "execution_count": 10,
   "id": "5e5fb6c6",
   "metadata": {
    "execution": {
     "iopub.execute_input": "2024-03-12T11:11:44.694522Z",
     "iopub.status.busy": "2024-03-12T11:11:44.694081Z",
     "iopub.status.idle": "2024-03-12T11:11:44.705683Z",
     "shell.execute_reply": "2024-03-12T11:11:44.704409Z"
    },
    "papermill": {
     "duration": 0.024715,
     "end_time": "2024-03-12T11:11:44.708202",
     "exception": false,
     "start_time": "2024-03-12T11:11:44.683487",
     "status": "completed"
    },
    "tags": []
   },
   "outputs": [],
   "source": [
    "# Combine lists into a list of tuples\n",
    "all_images = images + augmented_images1 + augmented_images2\n",
    "all_labels = labels*3"
   ]
  },
  {
   "cell_type": "code",
   "execution_count": 11,
   "id": "01cea3a7",
   "metadata": {
    "execution": {
     "iopub.execute_input": "2024-03-12T11:11:44.729287Z",
     "iopub.status.busy": "2024-03-12T11:11:44.728909Z",
     "iopub.status.idle": "2024-03-12T11:11:45.703946Z",
     "shell.execute_reply": "2024-03-12T11:11:45.702821Z"
    },
    "papermill": {
     "duration": 0.989702,
     "end_time": "2024-03-12T11:11:45.706752",
     "exception": false,
     "start_time": "2024-03-12T11:11:44.717050",
     "status": "completed"
    },
    "tags": []
   },
   "outputs": [],
   "source": [
    "import cv2\n",
    "\n",
    "all_images = [img.reshape(28, 28, 1) for img in all_images]\n",
    "all_images = np.stack(all_images)\n",
    "all_labels = np.array(all_labels)"
   ]
  },
  {
   "cell_type": "code",
   "execution_count": 12,
   "id": "32d7f295",
   "metadata": {
    "execution": {
     "iopub.execute_input": "2024-03-12T11:11:45.725974Z",
     "iopub.status.busy": "2024-03-12T11:11:45.725600Z",
     "iopub.status.idle": "2024-03-12T11:11:45.733101Z",
     "shell.execute_reply": "2024-03-12T11:11:45.731399Z"
    },
    "papermill": {
     "duration": 0.020324,
     "end_time": "2024-03-12T11:11:45.735781",
     "exception": false,
     "start_time": "2024-03-12T11:11:45.715457",
     "status": "completed"
    },
    "tags": []
   },
   "outputs": [
    {
     "data": {
      "text/plain": [
       "(126000, 28, 28, 1)"
      ]
     },
     "execution_count": 12,
     "metadata": {},
     "output_type": "execute_result"
    }
   ],
   "source": [
    "all_images.shape"
   ]
  },
  {
   "cell_type": "code",
   "execution_count": 13,
   "id": "5a4e1644",
   "metadata": {
    "execution": {
     "iopub.execute_input": "2024-03-12T11:11:45.755494Z",
     "iopub.status.busy": "2024-03-12T11:11:45.755018Z",
     "iopub.status.idle": "2024-03-12T11:11:45.762753Z",
     "shell.execute_reply": "2024-03-12T11:11:45.761387Z"
    },
    "papermill": {
     "duration": 0.020441,
     "end_time": "2024-03-12T11:11:45.765102",
     "exception": false,
     "start_time": "2024-03-12T11:11:45.744661",
     "status": "completed"
    },
    "tags": []
   },
   "outputs": [
    {
     "data": {
      "text/plain": [
       "(126000, 126000)"
      ]
     },
     "execution_count": 13,
     "metadata": {},
     "output_type": "execute_result"
    }
   ],
   "source": [
    "len(all_images),len(all_labels)"
   ]
  },
  {
   "cell_type": "code",
   "execution_count": 14,
   "id": "377d496b",
   "metadata": {
    "execution": {
     "iopub.execute_input": "2024-03-12T11:11:45.785895Z",
     "iopub.status.busy": "2024-03-12T11:11:45.785480Z",
     "iopub.status.idle": "2024-03-12T11:11:45.794196Z",
     "shell.execute_reply": "2024-03-12T11:11:45.792680Z"
    },
    "papermill": {
     "duration": 0.021965,
     "end_time": "2024-03-12T11:11:45.796764",
     "exception": false,
     "start_time": "2024-03-12T11:11:45.774799",
     "status": "completed"
    },
    "tags": []
   },
   "outputs": [],
   "source": [
    "import matplotlib.pyplot as plt\n",
    "import numpy as np\n",
    "\n",
    "def show_random_images(images, labels, num_images=12):\n",
    "    # Get random indices\n",
    "    random_indices = np.random.choice(len(images), size=num_images, replace=False)\n",
    "    # Create subplots\n",
    "    fig, axes = plt.subplots(3, 4, figsize=(7, 7))\n",
    "\n",
    "    # Plot each image with its label\n",
    "    for i, idx in enumerate(random_indices):\n",
    "        row = i // 4\n",
    "        col = i % 4\n",
    "        ax = axes[row, col]\n",
    "        ax.imshow(images[idx])\n",
    "        ax.set_title(f\"Label: {labels[idx]}\")\n",
    "        ax.axis('off')\n",
    "\n",
    "    plt.tight_layout()\n",
    "    plt.show()"
   ]
  },
  {
   "cell_type": "code",
   "execution_count": 15,
   "id": "33738b2e",
   "metadata": {
    "execution": {
     "iopub.execute_input": "2024-03-12T11:11:45.817167Z",
     "iopub.status.busy": "2024-03-12T11:11:45.816792Z",
     "iopub.status.idle": "2024-03-12T11:11:47.113540Z",
     "shell.execute_reply": "2024-03-12T11:11:47.112563Z"
    },
    "papermill": {
     "duration": 1.309714,
     "end_time": "2024-03-12T11:11:47.116109",
     "exception": false,
     "start_time": "2024-03-12T11:11:45.806395",
     "status": "completed"
    },
    "tags": []
   },
   "outputs": [
    {
     "data": {
      "image/png": "[encoded data removed]",
      "text/plain": [
       "<Figure size 700x700 with 12 Axes>"
      ]
     },
     "metadata": {},
     "output_type": "display_data"
    }
   ],
   "source": [
    "show_random_images(all_images, all_labels)"
   ]
  },
  {
   "cell_type": "code",
   "execution_count": 16,
   "id": "410ee68c",
   "metadata": {
    "execution": {
     "iopub.execute_input": "2024-03-12T11:11:47.138640Z",
     "iopub.status.busy": "2024-03-12T11:11:47.137775Z",
     "iopub.status.idle": "2024-03-12T11:11:48.738623Z",
     "shell.execute_reply": "2024-03-12T11:11:48.737247Z"
    },
    "papermill": {
     "duration": 1.61502,
     "end_time": "2024-03-12T11:11:48.741399",
     "exception": false,
     "start_time": "2024-03-12T11:11:47.126379",
     "status": "completed"
    },
    "tags": []
   },
   "outputs": [],
   "source": [
    "from sklearn.model_selection import train_test_split\n",
    "\n",
    "train_images, temp_images , train_labels , temp_labels = train_test_split(all_images, all_labels, test_size=0.4, random_state=42)\n",
    "val_images, test_images , val_labels , test_labels = train_test_split(temp_images, temp_labels, test_size=0.5, random_state=123)"
   ]
  },
  {
   "cell_type": "code",
   "execution_count": 17,
   "id": "3555a7f2",
   "metadata": {
    "execution": {
     "iopub.execute_input": "2024-03-12T11:11:48.763802Z",
     "iopub.status.busy": "2024-03-12T11:11:48.763417Z",
     "iopub.status.idle": "2024-03-12T11:11:49.086447Z",
     "shell.execute_reply": "2024-03-12T11:11:49.085218Z"
    },
    "papermill": {
     "duration": 0.337407,
     "end_time": "2024-03-12T11:11:49.089062",
     "exception": false,
     "start_time": "2024-03-12T11:11:48.751655",
     "status": "completed"
    },
    "tags": []
   },
   "outputs": [
    {
     "name": "stderr",
     "output_type": "stream",
     "text": [
      "/opt/conda/lib/python3.10/site-packages/keras/src/layers/convolutional/base_conv.py:99: UserWarning: Do not pass an `input_shape`/`input_dim` argument to a layer. When using Sequential models, prefer using an `Input(shape)` object as the first layer in the model instead.\n",
      "  super().__init__(\n"
     ]
    },
    {
     "data": {
      "text/html": [
       "<pre style=\"white-space:pre;overflow-x:auto;line-height:normal;font-family:Menlo,'DejaVu Sans Mono',consolas,'Courier New',monospace\"><span style=\"font-weight: bold\">Model: \"sequential\"</span>\n",
       "</pre>\n"
      ],
      "text/plain": [
       "\u001b[1mModel: \"sequential\"\u001b[0m\n"
      ]
     },
     "metadata": {},
     "output_type": "display_data"
    },
    {
     "data": {
      "text/html": [
       "<pre style=\"white-space:pre;overflow-x:auto;line-height:normal;font-family:Menlo,'DejaVu Sans Mono',consolas,'Courier New',monospace\">┏━━━━━━━━━━━━━━━━━━━━━━━━━━━━━━━━━┳━━━━━━━━━━━━━━━━━━━━━━━━┳━━━━━━━━━━━━━━━┓\n",
       "┃<span style=\"font-weight: bold\"> Layer (type)                    </span>┃<span style=\"font-weight: bold\"> Output Shape           </span>┃<span style=\"font-weight: bold\">       Param # </span>┃\n",
       "┡━━━━━━━━━━━━━━━━━━━━━━━━━━━━━━━━━╇━━━━━━━━━━━━━━━━━━━━━━━━╇━━━━━━━━━━━━━━━┩\n",
       "│ conv2d (<span style=\"color: #0087ff; text-decoration-color: #0087ff\">Conv2D</span>)                 │ (<span style=\"color: #00d7ff; text-decoration-color: #00d7ff\">None</span>, <span style=\"color: #00af00; text-decoration-color: #00af00\">24</span>, <span style=\"color: #00af00; text-decoration-color: #00af00\">24</span>, <span style=\"color: #00af00; text-decoration-color: #00af00\">32</span>)     │           <span style=\"color: #00af00; text-decoration-color: #00af00\">832</span> │\n",
       "├─────────────────────────────────┼────────────────────────┼───────────────┤\n",
       "│ conv2d_1 (<span style=\"color: #0087ff; text-decoration-color: #0087ff\">Conv2D</span>)               │ (<span style=\"color: #00d7ff; text-decoration-color: #00d7ff\">None</span>, <span style=\"color: #00af00; text-decoration-color: #00af00\">20</span>, <span style=\"color: #00af00; text-decoration-color: #00af00\">20</span>, <span style=\"color: #00af00; text-decoration-color: #00af00\">32</span>)     │        <span style=\"color: #00af00; text-decoration-color: #00af00\">25,632</span> │\n",
       "├─────────────────────────────────┼────────────────────────┼───────────────┤\n",
       "│ batch_normalization             │ (<span style=\"color: #00d7ff; text-decoration-color: #00d7ff\">None</span>, <span style=\"color: #00af00; text-decoration-color: #00af00\">20</span>, <span style=\"color: #00af00; text-decoration-color: #00af00\">20</span>, <span style=\"color: #00af00; text-decoration-color: #00af00\">32</span>)     │           <span style=\"color: #00af00; text-decoration-color: #00af00\">128</span> │\n",
       "│ (<span style=\"color: #0087ff; text-decoration-color: #0087ff\">BatchNormalization</span>)            │                        │               │\n",
       "├─────────────────────────────────┼────────────────────────┼───────────────┤\n",
       "│ max_pooling2d (<span style=\"color: #0087ff; text-decoration-color: #0087ff\">MaxPooling2D</span>)    │ (<span style=\"color: #00d7ff; text-decoration-color: #00d7ff\">None</span>, <span style=\"color: #00af00; text-decoration-color: #00af00\">10</span>, <span style=\"color: #00af00; text-decoration-color: #00af00\">10</span>, <span style=\"color: #00af00; text-decoration-color: #00af00\">32</span>)     │             <span style=\"color: #00af00; text-decoration-color: #00af00\">0</span> │\n",
       "├─────────────────────────────────┼────────────────────────┼───────────────┤\n",
       "│ dropout (<span style=\"color: #0087ff; text-decoration-color: #0087ff\">Dropout</span>)               │ (<span style=\"color: #00d7ff; text-decoration-color: #00d7ff\">None</span>, <span style=\"color: #00af00; text-decoration-color: #00af00\">10</span>, <span style=\"color: #00af00; text-decoration-color: #00af00\">10</span>, <span style=\"color: #00af00; text-decoration-color: #00af00\">32</span>)     │             <span style=\"color: #00af00; text-decoration-color: #00af00\">0</span> │\n",
       "├─────────────────────────────────┼────────────────────────┼───────────────┤\n",
       "│ conv2d_2 (<span style=\"color: #0087ff; text-decoration-color: #0087ff\">Conv2D</span>)               │ (<span style=\"color: #00d7ff; text-decoration-color: #00d7ff\">None</span>, <span style=\"color: #00af00; text-decoration-color: #00af00\">8</span>, <span style=\"color: #00af00; text-decoration-color: #00af00\">8</span>, <span style=\"color: #00af00; text-decoration-color: #00af00\">64</span>)       │        <span style=\"color: #00af00; text-decoration-color: #00af00\">18,496</span> │\n",
       "├─────────────────────────────────┼────────────────────────┼───────────────┤\n",
       "│ conv2d_3 (<span style=\"color: #0087ff; text-decoration-color: #0087ff\">Conv2D</span>)               │ (<span style=\"color: #00d7ff; text-decoration-color: #00d7ff\">None</span>, <span style=\"color: #00af00; text-decoration-color: #00af00\">6</span>, <span style=\"color: #00af00; text-decoration-color: #00af00\">6</span>, <span style=\"color: #00af00; text-decoration-color: #00af00\">64</span>)       │        <span style=\"color: #00af00; text-decoration-color: #00af00\">36,928</span> │\n",
       "├─────────────────────────────────┼────────────────────────┼───────────────┤\n",
       "│ batch_normalization_1           │ (<span style=\"color: #00d7ff; text-decoration-color: #00d7ff\">None</span>, <span style=\"color: #00af00; text-decoration-color: #00af00\">6</span>, <span style=\"color: #00af00; text-decoration-color: #00af00\">6</span>, <span style=\"color: #00af00; text-decoration-color: #00af00\">64</span>)       │           <span style=\"color: #00af00; text-decoration-color: #00af00\">256</span> │\n",
       "│ (<span style=\"color: #0087ff; text-decoration-color: #0087ff\">BatchNormalization</span>)            │                        │               │\n",
       "├─────────────────────────────────┼────────────────────────┼───────────────┤\n",
       "│ max_pooling2d_1 (<span style=\"color: #0087ff; text-decoration-color: #0087ff\">MaxPooling2D</span>)  │ (<span style=\"color: #00d7ff; text-decoration-color: #00d7ff\">None</span>, <span style=\"color: #00af00; text-decoration-color: #00af00\">3</span>, <span style=\"color: #00af00; text-decoration-color: #00af00\">3</span>, <span style=\"color: #00af00; text-decoration-color: #00af00\">64</span>)       │             <span style=\"color: #00af00; text-decoration-color: #00af00\">0</span> │\n",
       "├─────────────────────────────────┼────────────────────────┼───────────────┤\n",
       "│ dropout_1 (<span style=\"color: #0087ff; text-decoration-color: #0087ff\">Dropout</span>)             │ (<span style=\"color: #00d7ff; text-decoration-color: #00d7ff\">None</span>, <span style=\"color: #00af00; text-decoration-color: #00af00\">3</span>, <span style=\"color: #00af00; text-decoration-color: #00af00\">3</span>, <span style=\"color: #00af00; text-decoration-color: #00af00\">64</span>)       │             <span style=\"color: #00af00; text-decoration-color: #00af00\">0</span> │\n",
       "├─────────────────────────────────┼────────────────────────┼───────────────┤\n",
       "│ flatten (<span style=\"color: #0087ff; text-decoration-color: #0087ff\">Flatten</span>)               │ (<span style=\"color: #00d7ff; text-decoration-color: #00d7ff\">None</span>, <span style=\"color: #00af00; text-decoration-color: #00af00\">576</span>)            │             <span style=\"color: #00af00; text-decoration-color: #00af00\">0</span> │\n",
       "├─────────────────────────────────┼────────────────────────┼───────────────┤\n",
       "│ dense (<span style=\"color: #0087ff; text-decoration-color: #0087ff\">Dense</span>)                   │ (<span style=\"color: #00d7ff; text-decoration-color: #00d7ff\">None</span>, <span style=\"color: #00af00; text-decoration-color: #00af00\">256</span>)            │       <span style=\"color: #00af00; text-decoration-color: #00af00\">147,712</span> │\n",
       "├─────────────────────────────────┼────────────────────────┼───────────────┤\n",
       "│ dropout_2 (<span style=\"color: #0087ff; text-decoration-color: #0087ff\">Dropout</span>)             │ (<span style=\"color: #00d7ff; text-decoration-color: #00d7ff\">None</span>, <span style=\"color: #00af00; text-decoration-color: #00af00\">256</span>)            │             <span style=\"color: #00af00; text-decoration-color: #00af00\">0</span> │\n",
       "├─────────────────────────────────┼────────────────────────┼───────────────┤\n",
       "│ dense_1 (<span style=\"color: #0087ff; text-decoration-color: #0087ff\">Dense</span>)                 │ (<span style=\"color: #00d7ff; text-decoration-color: #00d7ff\">None</span>, <span style=\"color: #00af00; text-decoration-color: #00af00\">10</span>)             │         <span style=\"color: #00af00; text-decoration-color: #00af00\">2,570</span> │\n",
       "└─────────────────────────────────┴────────────────────────┴───────────────┘\n",
       "</pre>\n"
      ],
      "text/plain": [
       "┏━━━━━━━━━━━━━━━━━━━━━━━━━━━━━━━━━┳━━━━━━━━━━━━━━━━━━━━━━━━┳━━━━━━━━━━━━━━━┓\n",
       "┃\u001b[1m \u001b[0m\u001b[1mLayer (type)                   \u001b[0m\u001b[1m \u001b[0m┃\u001b[1m \u001b[0m\u001b[1mOutput Shape          \u001b[0m\u001b[1m \u001b[0m┃\u001b[1m \u001b[0m\u001b[1m      Param #\u001b[0m\u001b[1m \u001b[0m┃\n",
       "┡━━━━━━━━━━━━━━━━━━━━━━━━━━━━━━━━━╇━━━━━━━━━━━━━━━━━━━━━━━━╇━━━━━━━━━━━━━━━┩\n",
       "│ conv2d (\u001b[38;5;33mConv2D\u001b[0m)                 │ (\u001b[38;5;45mNone\u001b[0m, \u001b[38;5;34m24\u001b[0m, \u001b[38;5;34m24\u001b[0m, \u001b[38;5;34m32\u001b[0m)     │           \u001b[38;5;34m832\u001b[0m │\n",
       "├─────────────────────────────────┼────────────────────────┼───────────────┤\n",
       "│ conv2d_1 (\u001b[38;5;33mConv2D\u001b[0m)               │ (\u001b[38;5;45mNone\u001b[0m, \u001b[38;5;34m20\u001b[0m, \u001b[38;5;34m20\u001b[0m, \u001b[38;5;34m32\u001b[0m)     │        \u001b[38;5;34m25,632\u001b[0m │\n",
       "├─────────────────────────────────┼────────────────────────┼───────────────┤\n",
       "│ batch_normalization             │ (\u001b[38;5;45mNone\u001b[0m, \u001b[38;5;34m20\u001b[0m, \u001b[38;5;34m20\u001b[0m, \u001b[38;5;34m32\u001b[0m)     │           \u001b[38;5;34m128\u001b[0m │\n",
       "│ (\u001b[38;5;33mBatchNormalization\u001b[0m)            │                        │               │\n",
       "├─────────────────────────────────┼────────────────────────┼───────────────┤\n",
       "│ max_pooling2d (\u001b[38;5;33mMaxPooling2D\u001b[0m)    │ (\u001b[38;5;45mNone\u001b[0m, \u001b[38;5;34m10\u001b[0m, \u001b[38;5;34m10\u001b[0m, \u001b[38;5;34m32\u001b[0m)     │             \u001b[38;5;34m0\u001b[0m │\n",
       "├─────────────────────────────────┼────────────────────────┼───────────────┤\n",
       "│ dropout (\u001b[38;5;33mDropout\u001b[0m)               │ (\u001b[38;5;45mNone\u001b[0m, \u001b[38;5;34m10\u001b[0m, \u001b[38;5;34m10\u001b[0m, \u001b[38;5;34m32\u001b[0m)     │             \u001b[38;5;34m0\u001b[0m │\n",
       "├─────────────────────────────────┼────────────────────────┼───────────────┤\n",
       "│ conv2d_2 (\u001b[38;5;33mConv2D\u001b[0m)               │ (\u001b[38;5;45mNone\u001b[0m, \u001b[38;5;34m8\u001b[0m, \u001b[38;5;34m8\u001b[0m, \u001b[38;5;34m64\u001b[0m)       │        \u001b[38;5;34m18,496\u001b[0m │\n",
       "├─────────────────────────────────┼────────────────────────┼───────────────┤\n",
       "│ conv2d_3 (\u001b[38;5;33mConv2D\u001b[0m)               │ (\u001b[38;5;45mNone\u001b[0m, \u001b[38;5;34m6\u001b[0m, \u001b[38;5;34m6\u001b[0m, \u001b[38;5;34m64\u001b[0m)       │        \u001b[38;5;34m36,928\u001b[0m │\n",
       "├─────────────────────────────────┼────────────────────────┼───────────────┤\n",
       "│ batch_normalization_1           │ (\u001b[38;5;45mNone\u001b[0m, \u001b[38;5;34m6\u001b[0m, \u001b[38;5;34m6\u001b[0m, \u001b[38;5;34m64\u001b[0m)       │           \u001b[38;5;34m256\u001b[0m │\n",
       "│ (\u001b[38;5;33mBatchNormalization\u001b[0m)            │                        │               │\n",
       "├─────────────────────────────────┼────────────────────────┼───────────────┤\n",
       "│ max_pooling2d_1 (\u001b[38;5;33mMaxPooling2D\u001b[0m)  │ (\u001b[38;5;45mNone\u001b[0m, \u001b[38;5;34m3\u001b[0m, \u001b[38;5;34m3\u001b[0m, \u001b[38;5;34m64\u001b[0m)       │             \u001b[38;5;34m0\u001b[0m │\n",
       "├─────────────────────────────────┼────────────────────────┼───────────────┤\n",
       "│ dropout_1 (\u001b[38;5;33mDropout\u001b[0m)             │ (\u001b[38;5;45mNone\u001b[0m, \u001b[38;5;34m3\u001b[0m, \u001b[38;5;34m3\u001b[0m, \u001b[38;5;34m64\u001b[0m)       │             \u001b[38;5;34m0\u001b[0m │\n",
       "├─────────────────────────────────┼────────────────────────┼───────────────┤\n",
       "│ flatten (\u001b[38;5;33mFlatten\u001b[0m)               │ (\u001b[38;5;45mNone\u001b[0m, \u001b[38;5;34m576\u001b[0m)            │             \u001b[38;5;34m0\u001b[0m │\n",
       "├─────────────────────────────────┼────────────────────────┼───────────────┤\n",
       "│ dense (\u001b[38;5;33mDense\u001b[0m)                   │ (\u001b[38;5;45mNone\u001b[0m, \u001b[38;5;34m256\u001b[0m)            │       \u001b[38;5;34m147,712\u001b[0m │\n",
       "├─────────────────────────────────┼────────────────────────┼───────────────┤\n",
       "│ dropout_2 (\u001b[38;5;33mDropout\u001b[0m)             │ (\u001b[38;5;45mNone\u001b[0m, \u001b[38;5;34m256\u001b[0m)            │             \u001b[38;5;34m0\u001b[0m │\n",
       "├─────────────────────────────────┼────────────────────────┼───────────────┤\n",
       "│ dense_1 (\u001b[38;5;33mDense\u001b[0m)                 │ (\u001b[38;5;45mNone\u001b[0m, \u001b[38;5;34m10\u001b[0m)             │         \u001b[38;5;34m2,570\u001b[0m │\n",
       "└─────────────────────────────────┴────────────────────────┴───────────────┘\n"
      ]
     },
     "metadata": {},
     "output_type": "display_data"
    },
    {
     "data": {
      "text/html": [
       "<pre style=\"white-space:pre;overflow-x:auto;line-height:normal;font-family:Menlo,'DejaVu Sans Mono',consolas,'Courier New',monospace\"><span style=\"font-weight: bold\"> Total params: </span><span style=\"color: #00af00; text-decoration-color: #00af00\">232,554</span> (908.41 KB)\n",
       "</pre>\n"
      ],
      "text/plain": [
       "\u001b[1m Total params: \u001b[0m\u001b[38;5;34m232,554\u001b[0m (908.41 KB)\n"
      ]
     },
     "metadata": {},
     "output_type": "display_data"
    },
    {
     "data": {
      "text/html": [
       "<pre style=\"white-space:pre;overflow-x:auto;line-height:normal;font-family:Menlo,'DejaVu Sans Mono',consolas,'Courier New',monospace\"><span style=\"font-weight: bold\"> Trainable params: </span><span style=\"color: #00af00; text-decoration-color: #00af00\">232,362</span> (907.66 KB)\n",
       "</pre>\n"
      ],
      "text/plain": [
       "\u001b[1m Trainable params: \u001b[0m\u001b[38;5;34m232,362\u001b[0m (907.66 KB)\n"
      ]
     },
     "metadata": {},
     "output_type": "display_data"
    },
    {
     "data": {
      "text/html": [
       "<pre style=\"white-space:pre;overflow-x:auto;line-height:normal;font-family:Menlo,'DejaVu Sans Mono',consolas,'Courier New',monospace\"><span style=\"font-weight: bold\"> Non-trainable params: </span><span style=\"color: #00af00; text-decoration-color: #00af00\">192</span> (768.00 B)\n",
       "</pre>\n"
      ],
      "text/plain": [
       "\u001b[1m Non-trainable params: \u001b[0m\u001b[38;5;34m192\u001b[0m (768.00 B)\n"
      ]
     },
     "metadata": {},
     "output_type": "display_data"
    }
   ],
   "source": [
    "## Model\n",
    "from keras.models import Sequential, load_model\n",
    "from keras.layers import Conv2D, MaxPool2D, Dense, Flatten, Dropout\n",
    "from keras.layers import Dense, BatchNormalization\n",
    "\n",
    "model = Sequential()\n",
    "\n",
    "model.add(Conv2D(filters=32, kernel_size=(5,5), activation='relu', input_shape=(28, 28, 1)))\n",
    "model.add(Conv2D(filters=32, kernel_size=(5,5), activation='relu'))\n",
    "model.add(BatchNormalization())\n",
    "model.add(MaxPool2D(pool_size=(2, 2)))\n",
    "model.add(Dropout(rate=0.25))\n",
    "\n",
    "model.add(Conv2D(filters=64, kernel_size=(3, 3), activation='relu'))\n",
    "model.add(Conv2D(filters=64, kernel_size=(3, 3), activation='relu'))\n",
    "model.add(BatchNormalization())\n",
    "model.add(MaxPool2D(pool_size=(2, 2)))\n",
    "model.add(Dropout(rate=0.20))\n",
    "\n",
    "model.add(Flatten())\n",
    "\n",
    "model.add(Dense(256, activation='relu'))\n",
    "model.add(Dropout(rate=0.55))\n",
    "model.add(Dense(10, activation='softmax'))\n",
    "\n",
    "# Compile the model\n",
    "model.compile(optimizer='adam', loss='sparse_categorical_crossentropy', metrics=['accuracy'])\n",
    "\n",
    "## Summary about the Model\n",
    "model.summary()"
   ]
  },
  {
   "cell_type": "code",
   "execution_count": 18,
   "id": "a3d9a4fe",
   "metadata": {
    "execution": {
     "iopub.execute_input": "2024-03-12T11:11:49.115986Z",
     "iopub.status.busy": "2024-03-12T11:11:49.115534Z",
     "iopub.status.idle": "2024-03-12T11:57:56.028015Z",
     "shell.execute_reply": "2024-03-12T11:57:56.026828Z"
    },
    "papermill": {
     "duration": 2766.929461,
     "end_time": "2024-03-12T11:57:56.030971",
     "exception": false,
     "start_time": "2024-03-12T11:11:49.101510",
     "status": "completed"
    },
    "tags": []
   },
   "outputs": [
    {
     "name": "stdout",
     "output_type": "stream",
     "text": [
      "Epoch 1/20\n",
      "\u001b[1m1182/1182\u001b[0m \u001b[32m━━━━━━━━━━━━━━━━━━━━\u001b[0m\u001b[37m\u001b[0m \u001b[1m134s\u001b[0m 111ms/step - accuracy: 0.6031 - loss: 1.2706 - val_accuracy: 0.8890 - val_loss: 0.3580\n",
      "Epoch 2/20\n",
      "\u001b[1m1182/1182\u001b[0m \u001b[32m━━━━━━━━━━━━━━━━━━━━\u001b[0m\u001b[37m\u001b[0m \u001b[1m134s\u001b[0m 113ms/step - accuracy: 0.8710 - loss: 0.4083 - val_accuracy: 0.9222 - val_loss: 0.2440\n",
      "Epoch 3/20\n",
      "\u001b[1m1182/1182\u001b[0m \u001b[32m━━━━━━━━━━━━━━━━━━━━\u001b[0m\u001b[37m\u001b[0m \u001b[1m137s\u001b[0m 109ms/step - accuracy: 0.9058 - loss: 0.3022 - val_accuracy: 0.9429 - val_loss: 0.1832\n",
      "Epoch 4/20\n",
      "\u001b[1m1182/1182\u001b[0m \u001b[32m━━━━━━━━━━━━━━━━━━━━\u001b[0m\u001b[37m\u001b[0m \u001b[1m148s\u001b[0m 114ms/step - accuracy: 0.9206 - loss: 0.2559 - val_accuracy: 0.9426 - val_loss: 0.1847\n",
      "Epoch 5/20\n",
      "\u001b[1m1182/1182\u001b[0m \u001b[32m━━━━━━━━━━━━━━━━━━━━\u001b[0m\u001b[37m\u001b[0m \u001b[1m139s\u001b[0m 112ms/step - accuracy: 0.9321 - loss: 0.2206 - val_accuracy: 0.9429 - val_loss: 0.1936\n",
      "Epoch 6/20\n",
      "\u001b[1m1182/1182\u001b[0m \u001b[32m━━━━━━━━━━━━━━━━━━━━\u001b[0m\u001b[37m\u001b[0m \u001b[1m133s\u001b[0m 112ms/step - accuracy: 0.9380 - loss: 0.1978 - val_accuracy: 0.9573 - val_loss: 0.1466\n",
      "Epoch 7/20\n",
      "\u001b[1m1182/1182\u001b[0m \u001b[32m━━━━━━━━━━━━━━━━━━━━\u001b[0m\u001b[37m\u001b[0m \u001b[1m141s\u001b[0m 112ms/step - accuracy: 0.9457 - loss: 0.1748 - val_accuracy: 0.9604 - val_loss: 0.1274\n",
      "Epoch 8/20\n",
      "\u001b[1m1182/1182\u001b[0m \u001b[32m━━━━━━━━━━━━━━━━━━━━\u001b[0m\u001b[37m\u001b[0m \u001b[1m146s\u001b[0m 115ms/step - accuracy: 0.9486 - loss: 0.1710 - val_accuracy: 0.9631 - val_loss: 0.1261\n",
      "Epoch 9/20\n",
      "\u001b[1m1182/1182\u001b[0m \u001b[32m━━━━━━━━━━━━━━━━━━━━\u001b[0m\u001b[37m\u001b[0m \u001b[1m130s\u001b[0m 110ms/step - accuracy: 0.9521 - loss: 0.1565 - val_accuracy: 0.9609 - val_loss: 0.1272\n",
      "Epoch 10/20\n",
      "\u001b[1m1182/1182\u001b[0m \u001b[32m━━━━━━━━━━━━━━━━━━━━\u001b[0m\u001b[37m\u001b[0m \u001b[1m133s\u001b[0m 113ms/step - accuracy: 0.9549 - loss: 0.1477 - val_accuracy: 0.9652 - val_loss: 0.1148\n",
      "Epoch 11/20\n",
      "\u001b[1m1182/1182\u001b[0m \u001b[32m━━━━━━━━━━━━━━━━━━━━\u001b[0m\u001b[37m\u001b[0m \u001b[1m140s\u001b[0m 111ms/step - accuracy: 0.9573 - loss: 0.1399 - val_accuracy: 0.9619 - val_loss: 0.1234\n",
      "Epoch 12/20\n",
      "\u001b[1m1182/1182\u001b[0m \u001b[32m━━━━━━━━━━━━━━━━━━━━\u001b[0m\u001b[37m\u001b[0m \u001b[1m143s\u001b[0m 112ms/step - accuracy: 0.9584 - loss: 0.1366 - val_accuracy: 0.9667 - val_loss: 0.1121\n",
      "Epoch 13/20\n",
      "\u001b[1m1182/1182\u001b[0m \u001b[32m━━━━━━━━━━━━━━━━━━━━\u001b[0m\u001b[37m\u001b[0m \u001b[1m132s\u001b[0m 112ms/step - accuracy: 0.9619 - loss: 0.1259 - val_accuracy: 0.9652 - val_loss: 0.1190\n",
      "Epoch 14/20\n",
      "\u001b[1m1182/1182\u001b[0m \u001b[32m━━━━━━━━━━━━━━━━━━━━\u001b[0m\u001b[37m\u001b[0m \u001b[1m141s\u001b[0m 111ms/step - accuracy: 0.9635 - loss: 0.1196 - val_accuracy: 0.9669 - val_loss: 0.1142\n",
      "Epoch 15/20\n",
      "\u001b[1m1182/1182\u001b[0m \u001b[32m━━━━━━━━━━━━━━━━━━━━\u001b[0m\u001b[37m\u001b[0m \u001b[1m145s\u001b[0m 114ms/step - accuracy: 0.9646 - loss: 0.1125 - val_accuracy: 0.9664 - val_loss: 0.1188\n",
      "Epoch 16/20\n",
      "\u001b[1m1182/1182\u001b[0m \u001b[32m━━━━━━━━━━━━━━━━━━━━\u001b[0m\u001b[37m\u001b[0m \u001b[1m137s\u001b[0m 110ms/step - accuracy: 0.9653 - loss: 0.1122 - val_accuracy: 0.9679 - val_loss: 0.1147\n",
      "Epoch 17/20\n",
      "\u001b[1m1182/1182\u001b[0m \u001b[32m━━━━━━━━━━━━━━━━━━━━\u001b[0m\u001b[37m\u001b[0m \u001b[1m136s\u001b[0m 115ms/step - accuracy: 0.9680 - loss: 0.1040 - val_accuracy: 0.9660 - val_loss: 0.1149\n",
      "Epoch 18/20\n",
      "\u001b[1m1182/1182\u001b[0m \u001b[32m━━━━━━━━━━━━━━━━━━━━\u001b[0m\u001b[37m\u001b[0m \u001b[1m140s\u001b[0m 113ms/step - accuracy: 0.9678 - loss: 0.1025 - val_accuracy: 0.9691 - val_loss: 0.1094\n",
      "Epoch 19/20\n",
      "\u001b[1m1182/1182\u001b[0m \u001b[32m━━━━━━━━━━━━━━━━━━━━\u001b[0m\u001b[37m\u001b[0m \u001b[1m142s\u001b[0m 113ms/step - accuracy: 0.9675 - loss: 0.1019 - val_accuracy: 0.9705 - val_loss: 0.1042\n",
      "Epoch 20/20\n",
      "\u001b[1m1182/1182\u001b[0m \u001b[32m━━━━━━━━━━━━━━━━━━━━\u001b[0m\u001b[37m\u001b[0m \u001b[1m134s\u001b[0m 113ms/step - accuracy: 0.9700 - loss: 0.0940 - val_accuracy: 0.9707 - val_loss: 0.1061\n"
     ]
    }
   ],
   "source": [
    "# Train the model (replace this with your training data and labels)\n",
    "history = model.fit(train_images, train_labels, epochs=20, batch_size=64, validation_data=(val_images, val_labels))"
   ]
  },
  {
   "cell_type": "code",
   "execution_count": 19,
   "id": "25639241",
   "metadata": {
    "execution": {
     "iopub.execute_input": "2024-03-12T11:58:00.866088Z",
     "iopub.status.busy": "2024-03-12T11:58:00.865674Z",
     "iopub.status.idle": "2024-03-12T11:58:13.233399Z",
     "shell.execute_reply": "2024-03-12T11:58:13.231993Z"
    },
    "papermill": {
     "duration": 14.786192,
     "end_time": "2024-03-12T11:58:13.236019",
     "exception": false,
     "start_time": "2024-03-12T11:57:58.449827",
     "status": "completed"
    },
    "tags": []
   },
   "outputs": [
    {
     "name": "stdout",
     "output_type": "stream",
     "text": [
      "\u001b[1m788/788\u001b[0m \u001b[32m━━━━━━━━━━━━━━━━━━━━\u001b[0m\u001b[37m\u001b[0m \u001b[1m12s\u001b[0m 15ms/step - accuracy: 0.9716 - loss: 0.0960\n",
      "Test Accuracy: 0.973293662071228\n"
     ]
    }
   ],
   "source": [
    "# Evaluate the model\n",
    "test_loss, test_accuracy = model.evaluate(test_images, test_labels)\n",
    "print(\"Test Accuracy:\", test_accuracy)"
   ]
  },
  {
   "cell_type": "code",
   "execution_count": 20,
   "id": "4b66016d",
   "metadata": {
    "execution": {
     "iopub.execute_input": "2024-03-12T11:58:18.038515Z",
     "iopub.status.busy": "2024-03-12T11:58:18.038055Z",
     "iopub.status.idle": "2024-03-12T11:58:18.332965Z",
     "shell.execute_reply": "2024-03-12T11:58:18.331793Z"
    },
    "papermill": {
     "duration": 2.644307,
     "end_time": "2024-03-12T11:58:18.335454",
     "exception": false,
     "start_time": "2024-03-12T11:58:15.691147",
     "status": "completed"
    },
    "tags": []
   },
   "outputs": [
    {
     "data": {
      "image/png": "[encoded data removed]",
      "text/plain": [
       "<Figure size 640x480 with 1 Axes>"
      ]
     },
     "metadata": {},
     "output_type": "display_data"
    }
   ],
   "source": [
    "import matplotlib.pyplot as plt\n",
    "\n",
    "# Plot Accuracy Curve\n",
    "plt.plot(history.history['accuracy'], label='Training Accuracy')\n",
    "plt.plot(history.history['val_accuracy'], label='Validation Accuracy')\n",
    "plt.xlabel('Epoch')\n",
    "plt.ylabel('Accuracy')\n",
    "plt.legend()\n",
    "plt.show()"
   ]
  },
  {
   "cell_type": "code",
   "execution_count": 21,
   "id": "4ce8d87a",
   "metadata": {
    "execution": {
     "iopub.execute_input": "2024-03-12T11:58:23.226806Z",
     "iopub.status.busy": "2024-03-12T11:58:23.226030Z",
     "iopub.status.idle": "2024-03-12T11:58:44.027867Z",
     "shell.execute_reply": "2024-03-12T11:58:44.025698Z"
    },
    "papermill": {
     "duration": 23.271543,
     "end_time": "2024-03-12T11:58:44.031136",
     "exception": false,
     "start_time": "2024-03-12T11:58:20.759593",
     "status": "completed"
    },
    "tags": []
   },
   "outputs": [
    {
     "name": "stdout",
     "output_type": "stream",
     "text": [
      "\u001b[1m788/788\u001b[0m \u001b[32m━━━━━━━━━━━━━━━━━━━━\u001b[0m\u001b[37m\u001b[0m \u001b[1m13s\u001b[0m 16ms/step\n"
     ]
    }
   ],
   "source": [
    "predictions = model.predict(test_images)\n",
    "prediction_labels = []\n",
    "\n",
    "for prediction in predictions:\n",
    "  prediction_labels.append(np.argmax(prediction))"
   ]
  },
  {
   "cell_type": "code",
   "execution_count": 22,
   "id": "c8eec89a",
   "metadata": {
    "execution": {
     "iopub.execute_input": "2024-03-12T11:58:49.261078Z",
     "iopub.status.busy": "2024-03-12T11:58:49.260672Z",
     "iopub.status.idle": "2024-03-12T11:58:50.684336Z",
     "shell.execute_reply": "2024-03-12T11:58:50.683159Z"
    },
    "papermill": {
     "duration": 4.016278,
     "end_time": "2024-03-12T11:58:50.687021",
     "exception": false,
     "start_time": "2024-03-12T11:58:46.670743",
     "status": "completed"
    },
    "tags": []
   },
   "outputs": [
    {
     "data": {
      "image/png": "[encoded data removed]",
      "text/plain": [
       "<Figure size 1000x800 with 2 Axes>"
      ]
     },
     "metadata": {},
     "output_type": "display_data"
    }
   ],
   "source": [
    "import numpy as np\n",
    "import matplotlib.pyplot as plt\n",
    "from sklearn.metrics import confusion_matrix\n",
    "import seaborn as sns\n",
    "\n",
    "# Calculate the confusion matrix\n",
    "cm = confusion_matrix(test_labels, prediction_labels)\n",
    "\n",
    "# Plot the confusion matrix\n",
    "plt.figure(figsize=(10, 8))\n",
    "sns.heatmap(cm, annot=True, fmt='d', cmap='Blues')\n",
    "plt.xlabel('Predicted labels')\n",
    "plt.ylabel('True labels')\n",
    "plt.title('Confusion Matrix')\n",
    "plt.show()"
   ]
  },
  {
   "cell_type": "code",
   "execution_count": null,
   "id": "6e5913ef",
   "metadata": {
    "papermill": {
     "duration": 2.622527,
     "end_time": "2024-03-12T11:58:55.917587",
     "exception": false,
     "start_time": "2024-03-12T11:58:53.295060",
     "status": "completed"
    },
    "tags": []
   },
   "outputs": [],
   "source": []
  }
 ],
 "metadata": {
  "kaggle": {
   "accelerator": "none",
   "dataSources": [
    {
     "databundleVersionId": 861823,
     "sourceId": 3004,
     "sourceType": "competition"
    }
   ],
   "dockerImageVersionId": 30664,
   "isGpuEnabled": false,
   "isInternetEnabled": true,
   "language": "python",
   "sourceType": "notebook"
  },
  "kernelspec": {
   "display_name": "Python 3",
   "language": "python",
   "name": "python3"
  },
  "language_info": {
   "codemirror_mode": {
    "name": "ipython",
    "version": 3
   },
   "file_extension": ".py",
   "mimetype": "text/x-python",
   "name": "python",
   "nbconvert_exporter": "python",
   "pygments_lexer": "ipython3",
   "version": "3.10.13"
  },
  "papermill": {
   "default_parameters": {},
   "duration": 2896.575106,
   "end_time": "2024-03-12T11:59:01.343907",
   "environment_variables": {},
   "exception": null,
   "input_path": "__notebook__.ipynb",
   "output_path": "__notebook__.ipynb",
   "parameters": {},
   "start_time": "2024-03-12T11:10:44.768801",
   "version": "2.5.0"
  }
 },
 "nbformat": 4,
 "nbformat_minor": 5
}
